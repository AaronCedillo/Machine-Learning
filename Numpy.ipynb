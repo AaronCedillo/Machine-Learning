{
 "cells": [
  {
   "cell_type": "markdown",
   "metadata": {},
   "source": [
    "##### Numpy"
   ]
  },
  {
   "cell_type": "code",
   "execution_count": 1,
   "metadata": {},
   "outputs": [],
   "source": [
    "import numpy as np"
   ]
  },
  {
   "cell_type": "markdown",
   "metadata": {},
   "source": [
    "<img src=\"https://quppler.com/wp-content/uploads/2019/03/python-numpy-array.png\">"
   ]
  },
  {
   "cell_type": "code",
   "execution_count": 2,
   "metadata": {},
   "outputs": [
    {
     "name": "stdout",
     "output_type": "stream",
     "text": [
      "<class 'numpy.ndarray'>\n"
     ]
    }
   ],
   "source": [
    "array = np.array([[1, 2, 3], [4, 5, 6], [7, 8, 9]])\n",
    "print(type(array))"
   ]
  },
  {
   "cell_type": "code",
   "execution_count": 4,
   "metadata": {},
   "outputs": [
    {
     "name": "stdout",
     "output_type": "stream",
     "text": [
      "(3, 3)\n"
     ]
    }
   ],
   "source": [
    "print(array.shape)"
   ]
  },
  {
   "cell_type": "code",
   "execution_count": 5,
   "metadata": {},
   "outputs": [
    {
     "name": "stdout",
     "output_type": "stream",
     "text": [
      "[1 2 3]\n",
      "[4 5 6]\n",
      "[5 5 5]\n"
     ]
    }
   ],
   "source": [
    "print(array[0])\n",
    "print(array[1])\n",
    "array[2] = 5\n",
    "print(array[2])"
   ]
  },
  {
   "cell_type": "code",
   "execution_count": 6,
   "metadata": {},
   "outputs": [
    {
     "name": "stdout",
     "output_type": "stream",
     "text": [
      "Acceder al valor de la matriz 5\n"
     ]
    }
   ],
   "source": [
    "print(\"Acceder al valor de la matriz\", array[2, 0]) #[fila, columna]"
   ]
  },
  {
   "cell_type": "markdown",
   "metadata": {},
   "source": [
    "$ I^{n \\times n} =\n",
    "\\left( \\begin{array}{cccc}\n",
    "1 & 2 & 3 \\\\\n",
    "4 & 5 & 6 \\\\\n",
    "7 & 8 & 9 \\\\\n",
    "\\end{array} \\right) $"
   ]
  },
  {
   "cell_type": "code",
   "execution_count": 7,
   "metadata": {},
   "outputs": [
    {
     "name": "stdout",
     "output_type": "stream",
     "text": [
      "[[0. 0. 0. 0. 0. 0. 0.]\n",
      " [0. 0. 0. 0. 0. 0. 0.]\n",
      " [0. 0. 0. 0. 0. 0. 0.]\n",
      " [0. 0. 0. 0. 0. 0. 0.]\n",
      " [0. 0. 0. 0. 0. 0. 0.]\n",
      " [0. 0. 0. 0. 0. 0. 0.]\n",
      " [0. 0. 0. 0. 0. 0. 0.]]\n"
     ]
    }
   ],
   "source": [
    "#Un array lleno de ceros\n",
    "zeros = np.zeros([7, 7])\n",
    "print(zeros)"
   ]
  },
  {
   "cell_type": "code",
   "execution_count": 8,
   "metadata": {},
   "outputs": [
    {
     "name": "stdout",
     "output_type": "stream",
     "text": [
      "[[8 8 8 8]\n",
      " [8 8 8 8]\n",
      " [8 8 8 8]\n",
      " [8 8 8 8]]\n"
     ]
    }
   ],
   "source": [
    "#Crear un array lleno de un valor determinado\n",
    "eights = np.full([4, 4], 8)\n",
    "print(eights)"
   ]
  },
  {
   "cell_type": "code",
   "execution_count": 9,
   "metadata": {},
   "outputs": [
    {
     "name": "stdout",
     "output_type": "stream",
     "text": [
      "[[1. 0. 0. 0. 0. 0. 0. 0. 0.]\n",
      " [0. 1. 0. 0. 0. 0. 0. 0. 0.]\n",
      " [0. 0. 1. 0. 0. 0. 0. 0. 0.]\n",
      " [0. 0. 0. 1. 0. 0. 0. 0. 0.]\n",
      " [0. 0. 0. 0. 1. 0. 0. 0. 0.]\n",
      " [0. 0. 0. 0. 0. 1. 0. 0. 0.]\n",
      " [0. 0. 0. 0. 0. 0. 1. 0. 0.]\n",
      " [0. 0. 0. 0. 0. 0. 0. 1. 0.]\n",
      " [0. 0. 0. 0. 0. 0. 0. 0. 1.]]\n"
     ]
    }
   ],
   "source": [
    "#Llenar la diagonal principal con '1'\n",
    "eye = np.eye(9 , 9)\n",
    "print(eye)"
   ]
  },
  {
   "cell_type": "code",
   "execution_count": 10,
   "metadata": {},
   "outputs": [
    {
     "name": "stdout",
     "output_type": "stream",
     "text": [
      "[[[1. 1. 1.]\n",
      "  [1. 1. 1.]\n",
      "  [1. 1. 1.]\n",
      "  [1. 1. 1.]\n",
      "  [1. 1. 1.]\n",
      "  [1. 1. 1.]\n",
      "  [1. 1. 1.]]\n",
      "\n",
      " [[1. 1. 1.]\n",
      "  [1. 1. 1.]\n",
      "  [1. 1. 1.]\n",
      "  [1. 1. 1.]\n",
      "  [1. 1. 1.]\n",
      "  [1. 1. 1.]\n",
      "  [1. 1. 1.]]\n",
      "\n",
      " [[1. 1. 1.]\n",
      "  [1. 1. 1.]\n",
      "  [1. 1. 1.]\n",
      "  [1. 1. 1.]\n",
      "  [1. 1. 1.]\n",
      "  [1. 1. 1.]\n",
      "  [1. 1. 1.]]]\n"
     ]
    }
   ],
   "source": [
    "#Matriz con puros '1'\n",
    "ones = np.ones((3, 7, 3))\n",
    "print(ones)"
   ]
  },
  {
   "cell_type": "markdown",
   "metadata": {},
   "source": [
    "<img src=\"https://miro.medium.com/max/1440/1*Ikn1J6siiiCSk4ivYUhdgw.png\" height=\"700\" width=\"700\">"
   ]
  },
  {
   "cell_type": "code",
   "execution_count": 11,
   "metadata": {},
   "outputs": [
    {
     "name": "stdout",
     "output_type": "stream",
     "text": [
      "[[0.76694805 0.97163412 0.36513764 0.31921393]\n",
      " [0.60879539 0.6787363  0.46700605 0.39159828]\n",
      " [0.68386927 0.43592623 0.75142285 0.10168551]\n",
      " [0.38887596 0.25656208 0.56225261 0.09913526]]\n"
     ]
    }
   ],
   "source": [
    "## Arreglo de 4x4 de numeros random\n",
    "random = np.random.random((4, 4))\n",
    "print(random)"
   ]
  },
  {
   "cell_type": "markdown",
   "metadata": {},
   "source": [
    "##### Array de indices"
   ]
  },
  {
   "cell_type": "code",
   "execution_count": 12,
   "metadata": {},
   "outputs": [
    {
     "name": "stdout",
     "output_type": "stream",
     "text": [
      "[[10  9  8]\n",
      " [11 12 13]\n",
      " [14 15 20]\n",
      " [21 24 30]]\n",
      "(4, 3)\n"
     ]
    }
   ],
   "source": [
    "array = np.array([[10, 9, 8], [11, 12, 13], [14, 15, 20], [21, 24, 30]])\n",
    "print(array)\n",
    "print(array.shape)"
   ]
  },
  {
   "cell_type": "code",
   "execution_count": 13,
   "metadata": {},
   "outputs": [
    {
     "name": "stdout",
     "output_type": "stream",
     "text": [
      "Valores de columnas ->  [0 1 2 0]\n",
      "Valores de filas ->  [0 1 2 3]\n"
     ]
    }
   ],
   "source": [
    "#Creamos dos arrays con numeros enteros que utilizaremos como indices\n",
    "cols = np.array([0, 1, 2, 0])\n",
    "rows = np.arange(4)\n",
    "\n",
    "print(\"Valores de columnas -> \", cols)\n",
    "print(\"Valores de filas -> \", rows)"
   ]
  },
  {
   "cell_type": "code",
   "execution_count": 14,
   "metadata": {},
   "outputs": [
    {
     "name": "stdout",
     "output_type": "stream",
     "text": [
      "( 0 , 0 )\n",
      "( 1 , 1 )\n",
      "( 2 , 2 )\n",
      "( 3 , 0 )\n"
     ]
    }
   ],
   "source": [
    "for row, col in zip(rows, cols):\n",
    "    print('(', row, ',', col, ')')"
   ]
  },
  {
   "cell_type": "code",
   "execution_count": 15,
   "metadata": {},
   "outputs": [
    {
     "name": "stdout",
     "output_type": "stream",
     "text": [
      "Valores impresos con los arrays que queremos ->  [10 12 20 21]\n"
     ]
    }
   ],
   "source": [
    "print(\"Valores impresos con los arrays que queremos -> \", array[rows, cols])"
   ]
  },
  {
   "cell_type": "code",
   "execution_count": 16,
   "metadata": {},
   "outputs": [
    {
     "name": "stdout",
     "output_type": "stream",
     "text": [
      "[[10  9  8]\n",
      " [11 12 13]\n",
      " [14 15 20]\n",
      " [21 24 30]]\n"
     ]
    },
    {
     "data": {
      "text/plain": [
       "array([[110,   9,   8],\n",
       "       [ 11, 112,  13],\n",
       "       [ 14,  15, 120],\n",
       "       [121,  24,  30]])"
      ]
     },
     "execution_count": 16,
     "metadata": {},
     "output_type": "execute_result"
    }
   ],
   "source": [
    "print(array)\n",
    "array[rows, cols] += 100\n",
    "array"
   ]
  },
  {
   "cell_type": "code",
   "execution_count": 17,
   "metadata": {},
   "outputs": [
    {
     "data": {
      "text/plain": [
       "array([[ True, False, False],\n",
       "       [False,  True, False],\n",
       "       [False, False,  True],\n",
       "       [ True,  True,  True]])"
      ]
     },
     "execution_count": 17,
     "metadata": {},
     "output_type": "execute_result"
    }
   ],
   "source": [
    "#Crear un filtro\n",
    "filter_array = (array > 15)\n",
    "filter_array"
   ]
  },
  {
   "cell_type": "code",
   "execution_count": 18,
   "metadata": {},
   "outputs": [
    {
     "data": {
      "text/plain": [
       "array([110, 112, 120, 121,  24,  30])"
      ]
     },
     "execution_count": 18,
     "metadata": {},
     "output_type": "execute_result"
    }
   ],
   "source": [
    "#Imprimimos los valores que cumplen la condicion del filtro\n",
    "new_array_filter = array[filter_array]\n",
    "new_array_filter"
   ]
  },
  {
   "cell_type": "markdown",
   "metadata": {},
   "source": [
    "##### Slice en Array"
   ]
  },
  {
   "cell_type": "code",
   "execution_count": 19,
   "metadata": {},
   "outputs": [
    {
     "data": {
      "text/plain": [
       "array([[ 2,  3,  5,  6,  7,  0],\n",
       "       [23, 45,  6,  7, 90, 56],\n",
       "       [12, 14, 67, 80, 24, 28],\n",
       "       [34, 45, 89, 35, 78, 86]])"
      ]
     },
     "execution_count": 19,
     "metadata": {},
     "output_type": "execute_result"
    }
   ],
   "source": [
    "new_array = np.array([[2, 3, 5, 6, 7, 0], [23, 45, 6, 7, 90, 56], [12, 14, 67, 80, 24, 28], [34, 45, 89, 35, 78, 86]])\n",
    "new_array"
   ]
  },
  {
   "cell_type": "code",
   "execution_count": 20,
   "metadata": {},
   "outputs": [
    {
     "data": {
      "text/plain": [
       "array([[ 3,  5],\n",
       "       [45,  6]])"
      ]
     },
     "execution_count": 20,
     "metadata": {},
     "output_type": "execute_result"
    }
   ],
   "source": [
    "slice = new_array[:2, 1:3]\n",
    "slice"
   ]
  },
  {
   "cell_type": "code",
   "execution_count": 21,
   "metadata": {},
   "outputs": [
    {
     "data": {
      "text/plain": [
       "array([[103,   5],\n",
       "       [ 45,   6]])"
      ]
     },
     "execution_count": 21,
     "metadata": {},
     "output_type": "execute_result"
    }
   ],
   "source": [
    "slice[0, 0] += 100\n",
    "slice"
   ]
  },
  {
   "cell_type": "code",
   "execution_count": 22,
   "metadata": {},
   "outputs": [
    {
     "data": {
      "text/plain": [
       "array([[  2, 103,   5,   6,   7,   0],\n",
       "       [ 23,  45,   6,   7,  90,  56],\n",
       "       [ 12,  14,  67,  80,  24,  28],\n",
       "       [ 34,  45,  89,  35,  78,  86]])"
      ]
     },
     "execution_count": 22,
     "metadata": {},
     "output_type": "execute_result"
    }
   ],
   "source": [
    "#Al sumar 100 a la posicion (0,0) del slice realmente lo sumamos al original, un slice es un apuntador\n",
    "new_array"
   ]
  },
  {
   "cell_type": "code",
   "execution_count": 23,
   "metadata": {},
   "outputs": [
    {
     "data": {
      "text/plain": [
       "array([[103,   5],\n",
       "       [ 45,   6]])"
      ]
     },
     "execution_count": 23,
     "metadata": {},
     "output_type": "execute_result"
    }
   ],
   "source": [
    "#Para crear un array nuevo a partir del slice que hicimos\n",
    "array_slice = np.array(slice)\n",
    "array_slice"
   ]
  },
  {
   "cell_type": "code",
   "execution_count": 24,
   "metadata": {},
   "outputs": [],
   "source": [
    "a = np.array([[2, 4, 5, 6], [8, 9, 0, 6]])\n",
    "b = np.array([[4, 5, 6, 8], [23, 12, 6, 7]])"
   ]
  },
  {
   "cell_type": "code",
   "execution_count": 25,
   "metadata": {},
   "outputs": [
    {
     "name": "stdout",
     "output_type": "stream",
     "text": [
      "[[ 2  1  1  2]\n",
      " [15  3  6  1]]\n"
     ]
    }
   ],
   "source": [
    "#Operaciones entre arrays\n",
    "#Resta\n",
    "print(np.subtract(b,a))"
   ]
  },
  {
   "cell_type": "code",
   "execution_count": 26,
   "metadata": {},
   "outputs": [
    {
     "name": "stdout",
     "output_type": "stream",
     "text": [
      "[[ 6  9 11 14]\n",
      " [31 21  6 13]]\n"
     ]
    }
   ],
   "source": [
    "#Suma\n",
    "print(np.add(b,a))"
   ]
  },
  {
   "cell_type": "code",
   "execution_count": 27,
   "metadata": {},
   "outputs": [
    {
     "name": "stdout",
     "output_type": "stream",
     "text": [
      "[[  8  20  30  48]\n",
      " [184 108   0  42]]\n"
     ]
    }
   ],
   "source": [
    "#Multiplicacion\n",
    "print(np.multiply(a,b))"
   ]
  },
  {
   "cell_type": "code",
   "execution_count": 28,
   "metadata": {},
   "outputs": [
    {
     "name": "stdout",
     "output_type": "stream",
     "text": [
      "[[0.5        0.8        0.83333333 0.75      ]\n",
      " [0.34782609 0.75       0.         0.85714286]]\n"
     ]
    }
   ],
   "source": [
    "#Division\n",
    "print(np.divide(a,b))"
   ]
  },
  {
   "cell_type": "markdown",
   "metadata": {},
   "source": [
    "#### Operaciones Estadisticas basicas"
   ]
  },
  {
   "cell_type": "code",
   "execution_count": 29,
   "metadata": {},
   "outputs": [
    {
     "data": {
      "text/plain": [
       "array([[0.29670357, 0.27357713, 0.93326577, 0.61114902, 0.07880201],\n",
       "       [0.12456377, 0.8888479 , 0.5339089 , 0.14564777, 0.35471113]])"
      ]
     },
     "execution_count": 29,
     "metadata": {},
     "output_type": "execute_result"
    }
   ],
   "source": [
    "array_random = np.random.rand(2, 5)\n",
    "array_random"
   ]
  },
  {
   "cell_type": "code",
   "execution_count": 30,
   "metadata": {},
   "outputs": [
    {
     "name": "stdout",
     "output_type": "stream",
     "text": [
      "0.4241176960834843\n"
     ]
    }
   ],
   "source": [
    "#Calcula la media(promedio) de un array\n",
    "print(array_random.mean())"
   ]
  },
  {
   "cell_type": "code",
   "execution_count": 31,
   "metadata": {},
   "outputs": [
    {
     "name": "stdout",
     "output_type": "stream",
     "text": [
      "[0.4386995  0.40953589]\n"
     ]
    }
   ],
   "source": [
    "#Sacar el promedio fila por fila\n",
    "#eje 0 = columnas\n",
    "#eje 1 = filas\n",
    "print(array_random.mean(axis = 1))"
   ]
  },
  {
   "cell_type": "code",
   "execution_count": 32,
   "metadata": {},
   "outputs": [
    {
     "name": "stdout",
     "output_type": "stream",
     "text": [
      "[0.21063367 0.58121251 0.73358733 0.37839839 0.21675657]\n"
     ]
    }
   ],
   "source": [
    "#Sacamos el promedio columna por columna\n",
    "print(array_random.mean(axis = 0))"
   ]
  },
  {
   "cell_type": "code",
   "execution_count": 33,
   "metadata": {},
   "outputs": [
    {
     "data": {
      "text/plain": [
       "array([[0.07260767, 0.98951338, 0.75201697],\n",
       "       [0.06221866, 0.1722389 , 0.24232813]])"
      ]
     },
     "execution_count": 33,
     "metadata": {},
     "output_type": "execute_result"
    }
   ],
   "source": [
    "#Creamos un array de 10 elementos aleatorios\n",
    "array_disorder = np.random.rand(2, 3)\n",
    "array_disorder"
   ]
  },
  {
   "cell_type": "code",
   "execution_count": 34,
   "metadata": {},
   "outputs": [
    {
     "data": {
      "text/plain": [
       "array([[0.07260767, 0.98951338, 0.75201697],\n",
       "       [0.06221866, 0.1722389 , 0.24232813]])"
      ]
     },
     "execution_count": 34,
     "metadata": {},
     "output_type": "execute_result"
    }
   ],
   "source": [
    "#Creamos una copia\n",
    "order = np.array(array_disorder)\n",
    "order"
   ]
  },
  {
   "cell_type": "code",
   "execution_count": 35,
   "metadata": {},
   "outputs": [
    {
     "data": {
      "text/plain": [
       "array([[0.07260767, 0.75201697, 0.98951338],\n",
       "       [0.06221866, 0.1722389 , 0.24232813]])"
      ]
     },
     "execution_count": 35,
     "metadata": {},
     "output_type": "execute_result"
    }
   ],
   "source": [
    "#Ordenamos el arreglo\n",
    "order.sort()\n",
    "order"
   ]
  },
  {
   "cell_type": "code",
   "execution_count": 36,
   "metadata": {},
   "outputs": [
    {
     "name": "stdout",
     "output_type": "stream",
     "text": [
      "[1 2 3]\n"
     ]
    }
   ],
   "source": [
    "#Buscando elementos unicos\n",
    "uniq_array = np.array([1, 2, 3, 1, 2, 3, 1, 2, 3])\n",
    "print(np.unique(uniq_array))"
   ]
  },
  {
   "cell_type": "code",
   "execution_count": 37,
   "metadata": {},
   "outputs": [],
   "source": [
    "#Operaciones en conjunto\n",
    "s1 = np.array(['silla', 'mesa', 'lampara'])\n",
    "s2 = np.array(['silla', 'mesa', 'cajon'])"
   ]
  },
  {
   "cell_type": "code",
   "execution_count": 38,
   "metadata": {},
   "outputs": [
    {
     "name": "stdout",
     "output_type": "stream",
     "text": [
      "['mesa' 'silla']\n"
     ]
    }
   ],
   "source": [
    "#Interseccion, sacamos los puntos iguales de los arrays\n",
    "print(np.intersect1d(s1, s2))"
   ]
  },
  {
   "cell_type": "code",
   "execution_count": 39,
   "metadata": {},
   "outputs": [
    {
     "name": "stdout",
     "output_type": "stream",
     "text": [
      "['cajon' 'lampara' 'mesa' 'silla']\n"
     ]
    }
   ],
   "source": [
    "#Union en 1d, nos quedamos con elementos unicos de los dos arrays\n",
    "print(np.union1d(s1, s2))"
   ]
  },
  {
   "cell_type": "code",
   "execution_count": 40,
   "metadata": {},
   "outputs": [
    {
     "name": "stdout",
     "output_type": "stream",
     "text": [
      "['lampara']\n"
     ]
    }
   ],
   "source": [
    "#Elementos de s1 que no esten en s2\n",
    "print(np.setdiff1d(s1, s2))"
   ]
  },
  {
   "cell_type": "code",
   "execution_count": 43,
   "metadata": {},
   "outputs": [
    {
     "name": "stdout",
     "output_type": "stream",
     "text": [
      "[ True  True False]\n"
     ]
    }
   ],
   "source": [
    "#Que elementos de s1 estan en s2\n",
    "print(np.in1d(s1, s2))"
   ]
  },
  {
   "cell_type": "markdown",
   "metadata": {},
   "source": [
    "### Operaciones frecuentes"
   ]
  },
  {
   "cell_type": "code",
   "execution_count": 44,
   "metadata": {},
   "outputs": [
    {
     "name": "stdout",
     "output_type": "stream",
     "text": [
      "Dimension --->  (2, 2)\n",
      "Sumamos los elementos de un array --->  17\n"
     ]
    }
   ],
   "source": [
    "ex1 = np.array([[2, 3], [5, 7]])\n",
    "print(\"Dimension ---> \", ex1.shape)\n",
    "print(\"Sumamos los elementos de un array ---> \", np.sum(ex1))"
   ]
  },
  {
   "cell_type": "code",
   "execution_count": 45,
   "metadata": {},
   "outputs": [
    {
     "name": "stdout",
     "output_type": "stream",
     "text": [
      "Sumamos solo una columna --->  [ 7 10]\n",
      "Sumamos solo una fila --->  [ 5 12]\n"
     ]
    }
   ],
   "source": [
    "print(\"Sumamos solo una columna ---> \", np.sum(ex1, axis = 0))\n",
    "print(\"Sumamos solo una fila ---> \", np.sum(ex1, axis = 1))"
   ]
  },
  {
   "cell_type": "markdown",
   "metadata": {},
   "source": [
    "### Reformateando un array (IMPORTANTE)"
   ]
  },
  {
   "cell_type": "code",
   "execution_count": 46,
   "metadata": {},
   "outputs": [
    {
     "name": "stdout",
     "output_type": "stream",
     "text": [
      "Arreglo --->  [ 0  1  2  3  4  5  6  7  8  9 10 11 12 13 14 15 16 17 18 19]\n",
      "Dimension --->  (20,)\n"
     ]
    }
   ],
   "source": [
    "arr = np.arange(20)\n",
    "print(\"Arreglo ---> \", arr)\n",
    "print(\"Dimension ---> \", arr.shape)"
   ]
  },
  {
   "cell_type": "code",
   "execution_count": 50,
   "metadata": {},
   "outputs": [
    {
     "name": "stdout",
     "output_type": "stream",
     "text": [
      "[[ 0  1  2  3  4]\n",
      " [ 5  6  7  8  9]\n",
      " [10 11 12 13 14]\n",
      " [15 16 17 18 19]]\n"
     ]
    }
   ],
   "source": [
    "reshape_arr = arr.reshape(4, 5)\n",
    "print(reshape_arr)"
   ]
  },
  {
   "cell_type": "code",
   "execution_count": 51,
   "metadata": {},
   "outputs": [
    {
     "data": {
      "text/plain": [
       "array([[ 0,  5, 10, 15],\n",
       "       [ 1,  6, 11, 16],\n",
       "       [ 2,  7, 12, 17],\n",
       "       [ 3,  8, 13, 18],\n",
       "       [ 4,  9, 14, 19]])"
      ]
     },
     "execution_count": 51,
     "metadata": {},
     "output_type": "execute_result"
    }
   ],
   "source": [
    "#Transpuesta de un array\n",
    "reshape_arr.T"
   ]
  },
  {
   "cell_type": "code",
   "execution_count": 52,
   "metadata": {},
   "outputs": [
    {
     "data": {
      "text/plain": [
       "array([[0.90913891, 0.90504651, 0.19230904, 0.21699448],\n",
       "       [0.16316621, 0.93546352, 0.39267397, 0.94401305],\n",
       "       [0.48891801, 0.43736594, 0.04748261, 0.95746455],\n",
       "       [0.90402089, 0.44251761, 0.39107526, 0.48546517]])"
      ]
     },
     "execution_count": 52,
     "metadata": {},
     "output_type": "execute_result"
    }
   ],
   "source": [
    "#Where ..... MUY UTIL\n",
    "mat = np.random.rand(4,4)\n",
    "mat"
   ]
  },
  {
   "cell_type": "code",
   "execution_count": 53,
   "metadata": {},
   "outputs": [
    {
     "data": {
      "text/plain": [
       "array([[1, 1, 0, 0],\n",
       "       [0, 1, 1, 1],\n",
       "       [1, 1, 0, 1],\n",
       "       [1, 1, 1, 1]])"
      ]
     },
     "execution_count": 53,
     "metadata": {},
     "output_type": "execute_result"
    }
   ],
   "source": [
    "#Le pasamos array de condicion, (array --condicion--, nuevo valor donde se cumpla, nuevo valor donde no se cumpla)\n",
    "\n",
    "np.where(mat > 0.3, 1, 0)"
   ]
  },
  {
   "cell_type": "code",
   "execution_count": 55,
   "metadata": {},
   "outputs": [
    {
     "data": {
      "text/plain": [
       "True"
      ]
     },
     "execution_count": 55,
     "metadata": {},
     "output_type": "execute_result"
    }
   ],
   "source": [
    "#Comprobar si algun elemto del array es verdadero, funciona tanto con numeros como con booleanos\n",
    "\n",
    "array_bools = np.array([0, 0, 5, 0, 0])\n",
    "array_bools.any()"
   ]
  },
  {
   "cell_type": "code",
   "execution_count": 56,
   "metadata": {},
   "outputs": [
    {
     "data": {
      "text/plain": [
       "False"
      ]
     },
     "execution_count": 56,
     "metadata": {},
     "output_type": "execute_result"
    }
   ],
   "source": [
    "#Comprobar si todos los elementos del array son True\n",
    "\n",
    "array_true = np.array([1, 1, 1, False])\n",
    "array_true.all()"
   ]
  },
  {
   "cell_type": "markdown",
   "metadata": {},
   "source": [
    "### Uniendo Data Sets"
   ]
  },
  {
   "cell_type": "code",
   "execution_count": 58,
   "metadata": {},
   "outputs": [
    {
     "name": "stdout",
     "output_type": "stream",
     "text": [
      "[[10  6]\n",
      " [13 15]]\n",
      "\n",
      " [[ 5  8]\n",
      " [15  2]]\n"
     ]
    }
   ],
   "source": [
    "###Creamos un array de numeros aleatorios con el metodo --->  np.random.randint(-numero menor-, -numero mayor-, -forma-)\n",
    "X = np.random.randint(low=2, high=20, size=(2, 2))\n",
    "\n",
    "print(X)\n",
    "\n",
    "K = np.random.randint(low=2, high=20, size=(2, 2))\n",
    "\n",
    "print(\"\\n\", K)"
   ]
  },
  {
   "cell_type": "code",
   "execution_count": 59,
   "metadata": {},
   "outputs": [
    {
     "data": {
      "text/plain": [
       "array([[ 5,  8],\n",
       "       [15,  2],\n",
       "       [10,  6],\n",
       "       [13, 15]])"
      ]
     },
     "execution_count": 59,
     "metadata": {},
     "output_type": "execute_result"
    }
   ],
   "source": [
    "## Unimos 'apilando' verticalmente\n",
    "np.vstack((K, X))"
   ]
  },
  {
   "cell_type": "code",
   "execution_count": 60,
   "metadata": {},
   "outputs": [
    {
     "data": {
      "text/plain": [
       "array([[ 5,  8, 10,  6],\n",
       "       [15,  2, 13, 15]])"
      ]
     },
     "execution_count": 60,
     "metadata": {},
     "output_type": "execute_result"
    }
   ],
   "source": [
    "## Apilamos horizontalmente\n",
    "np.hstack((K, X))"
   ]
  },
  {
   "cell_type": "code",
   "execution_count": 61,
   "metadata": {},
   "outputs": [
    {
     "data": {
      "text/plain": [
       "array([[ 5,  8],\n",
       "       [15,  2],\n",
       "       [10,  6],\n",
       "       [13, 15]])"
      ]
     },
     "execution_count": 61,
     "metadata": {},
     "output_type": "execute_result"
    }
   ],
   "source": [
    "#Podemos unir concatenando\n",
    "np.concatenate([K, X], axis = 0)"
   ]
  },
  {
   "cell_type": "code",
   "execution_count": 62,
   "metadata": {},
   "outputs": [
    {
     "data": {
      "text/plain": [
       "array([[ 5,  8, 10,  6],\n",
       "       [15,  2, 13, 15]])"
      ]
     },
     "execution_count": 62,
     "metadata": {},
     "output_type": "execute_result"
    }
   ],
   "source": [
    "np.concatenate([K, X], axis = 1)"
   ]
  },
  {
   "cell_type": "markdown",
   "metadata": {},
   "source": [
    "### Propagacion "
   ]
  },
  {
   "cell_type": "code",
   "execution_count": null,
   "metadata": {},
   "outputs": [],
   "source": []
  }
 ],
 "metadata": {
  "kernelspec": {
   "display_name": "Python 3",
   "language": "python",
   "name": "python3"
  },
  "language_info": {
   "codemirror_mode": {
    "name": "ipython",
    "version": 3
   },
   "file_extension": ".py",
   "mimetype": "text/x-python",
   "name": "python",
   "nbconvert_exporter": "python",
   "pygments_lexer": "ipython3",
   "version": "3.7.3"
  }
 },
 "nbformat": 4,
 "nbformat_minor": 2
}
