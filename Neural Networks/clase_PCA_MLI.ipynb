{
 "cells": [
  {
   "cell_type": "markdown",
   "metadata": {},
   "source": [
    "# Dimensionality reduction and PCA"
   ]
  },
  {
   "cell_type": "code",
   "execution_count": 1,
   "metadata": {},
   "outputs": [],
   "source": [
    "import pandas as pd\n",
    "import numpy as np\n",
    "from sklearn.model_selection import train_test_split\n",
    "from sklearn.naive_bayes import GaussianNB\n",
    "from sklearn import metrics\n",
    "from sklearn.preprocessing import StandardScaler\n",
    "from sklearn.decomposition import PCA\n",
    "import matplotlib.pyplot as plt\n",
    "import seaborn as sns\n",
    "%matplotlib inline"
   ]
  },
  {
   "cell_type": "code",
   "execution_count": 2,
   "metadata": {},
   "outputs": [],
   "source": [
    "# Global variables\n",
    "random_seed = 585"
   ]
  },
  {
   "cell_type": "code",
   "execution_count": 3,
   "metadata": {},
   "outputs": [
    {
     "data": {
      "text/html": [
       "<div>\n",
       "<style scoped>\n",
       "    .dataframe tbody tr th:only-of-type {\n",
       "        vertical-align: middle;\n",
       "    }\n",
       "\n",
       "    .dataframe tbody tr th {\n",
       "        vertical-align: top;\n",
       "    }\n",
       "\n",
       "    .dataframe thead th {\n",
       "        text-align: right;\n",
       "    }\n",
       "</style>\n",
       "<table border=\"1\" class=\"dataframe\">\n",
       "  <thead>\n",
       "    <tr style=\"text-align: right;\">\n",
       "      <th></th>\n",
       "      <th>Cultivar</th>\n",
       "      <th>Alcohol</th>\n",
       "      <th>Malic</th>\n",
       "      <th>Ash</th>\n",
       "      <th>Alcalinity</th>\n",
       "      <th>Magnesium</th>\n",
       "      <th>Phenols</th>\n",
       "      <th>Flavanoids</th>\n",
       "      <th>Nonflavanoid</th>\n",
       "      <th>Proanthocyanins</th>\n",
       "      <th>Color</th>\n",
       "      <th>Hue</th>\n",
       "      <th>Dilution</th>\n",
       "      <th>Proline</th>\n",
       "    </tr>\n",
       "  </thead>\n",
       "  <tbody>\n",
       "    <tr>\n",
       "      <th>0</th>\n",
       "      <td>1</td>\n",
       "      <td>14.23</td>\n",
       "      <td>1.71</td>\n",
       "      <td>2.43</td>\n",
       "      <td>15.6</td>\n",
       "      <td>127</td>\n",
       "      <td>2.80</td>\n",
       "      <td>3.06</td>\n",
       "      <td>0.28</td>\n",
       "      <td>2.29</td>\n",
       "      <td>5.64</td>\n",
       "      <td>1.04</td>\n",
       "      <td>3.92</td>\n",
       "      <td>1065</td>\n",
       "    </tr>\n",
       "    <tr>\n",
       "      <th>1</th>\n",
       "      <td>1</td>\n",
       "      <td>13.20</td>\n",
       "      <td>1.78</td>\n",
       "      <td>2.14</td>\n",
       "      <td>11.2</td>\n",
       "      <td>100</td>\n",
       "      <td>2.65</td>\n",
       "      <td>2.76</td>\n",
       "      <td>0.26</td>\n",
       "      <td>1.28</td>\n",
       "      <td>4.38</td>\n",
       "      <td>1.05</td>\n",
       "      <td>3.40</td>\n",
       "      <td>1050</td>\n",
       "    </tr>\n",
       "    <tr>\n",
       "      <th>2</th>\n",
       "      <td>1</td>\n",
       "      <td>13.16</td>\n",
       "      <td>2.36</td>\n",
       "      <td>2.67</td>\n",
       "      <td>18.6</td>\n",
       "      <td>101</td>\n",
       "      <td>2.80</td>\n",
       "      <td>3.24</td>\n",
       "      <td>0.30</td>\n",
       "      <td>2.81</td>\n",
       "      <td>5.68</td>\n",
       "      <td>1.03</td>\n",
       "      <td>3.17</td>\n",
       "      <td>1185</td>\n",
       "    </tr>\n",
       "    <tr>\n",
       "      <th>3</th>\n",
       "      <td>1</td>\n",
       "      <td>14.37</td>\n",
       "      <td>1.95</td>\n",
       "      <td>2.50</td>\n",
       "      <td>16.8</td>\n",
       "      <td>113</td>\n",
       "      <td>3.85</td>\n",
       "      <td>3.49</td>\n",
       "      <td>0.24</td>\n",
       "      <td>2.18</td>\n",
       "      <td>7.80</td>\n",
       "      <td>0.86</td>\n",
       "      <td>3.45</td>\n",
       "      <td>1480</td>\n",
       "    </tr>\n",
       "    <tr>\n",
       "      <th>4</th>\n",
       "      <td>1</td>\n",
       "      <td>13.24</td>\n",
       "      <td>2.59</td>\n",
       "      <td>2.87</td>\n",
       "      <td>21.0</td>\n",
       "      <td>118</td>\n",
       "      <td>2.80</td>\n",
       "      <td>2.69</td>\n",
       "      <td>0.39</td>\n",
       "      <td>1.82</td>\n",
       "      <td>4.32</td>\n",
       "      <td>1.04</td>\n",
       "      <td>2.93</td>\n",
       "      <td>735</td>\n",
       "    </tr>\n",
       "  </tbody>\n",
       "</table>\n",
       "</div>"
      ],
      "text/plain": [
       "   Cultivar  Alcohol  Malic   Ash  Alcalinity  Magnesium  Phenols  Flavanoids  \\\n",
       "0         1    14.23   1.71  2.43        15.6        127     2.80        3.06   \n",
       "1         1    13.20   1.78  2.14        11.2        100     2.65        2.76   \n",
       "2         1    13.16   2.36  2.67        18.6        101     2.80        3.24   \n",
       "3         1    14.37   1.95  2.50        16.8        113     3.85        3.49   \n",
       "4         1    13.24   2.59  2.87        21.0        118     2.80        2.69   \n",
       "\n",
       "   Nonflavanoid  Proanthocyanins  Color   Hue  Dilution  Proline  \n",
       "0          0.28             2.29   5.64  1.04      3.92     1065  \n",
       "1          0.26             1.28   4.38  1.05      3.40     1050  \n",
       "2          0.30             2.81   5.68  1.03      3.17     1185  \n",
       "3          0.24             2.18   7.80  0.86      3.45     1480  \n",
       "4          0.39             1.82   4.32  1.04      2.93      735  "
      ]
     },
     "execution_count": 3,
     "metadata": {},
     "output_type": "execute_result"
    }
   ],
   "source": [
    "# Data loading\n",
    "url = 'http://archive.ics.uci.edu/ml/machine-learning-databases/wine/wine.data'\n",
    "\n",
    "header = ['Cultivar','Alcohol','Malic','Ash','Alcalinity',\n",
    "          'Magnesium','Phenols','Flavanoids','Nonflavanoid',\n",
    "          'Proanthocyanins','Color','Hue','Dilution','Proline']\n",
    "\n",
    "wine = pd.read_csv(url, names = header)\n",
    "wine.head()"
   ]
  },
  {
   "cell_type": "code",
   "execution_count": 4,
   "metadata": {},
   "outputs": [
    {
     "data": {
      "text/plain": [
       "(178, 14)"
      ]
     },
     "execution_count": 4,
     "metadata": {},
     "output_type": "execute_result"
    }
   ],
   "source": [
    "# Dimensions of the wine table\n",
    "wine.shape"
   ]
  },
  {
   "cell_type": "markdown",
   "metadata": {},
   "source": [
    "## Just Naive Bayes"
   ]
  },
  {
   "cell_type": "code",
   "execution_count": 5,
   "metadata": {},
   "outputs": [],
   "source": [
    "# Splitting onto target and features\n",
    "X = wine.iloc[ : , 1:len(header) ]\n",
    "y = wine.iloc[ : , 0 ]"
   ]
  },
  {
   "cell_type": "code",
   "execution_count": 6,
   "metadata": {},
   "outputs": [],
   "source": [
    "# Make a train/test split using 20%\n",
    "X_train, X_test, y_train, y_test = train_test_split(X,\n",
    "                                                    y,\n",
    "                                                    test_size = 0.30,\n",
    "                                                    random_state = random_seed)"
   ]
  },
  {
   "cell_type": "code",
   "execution_count": 7,
   "metadata": {},
   "outputs": [
    {
     "name": "stderr",
     "output_type": "stream",
     "text": [
      "/home/ebecerra/anaconda3/envs/duch_01/lib/python3.6/site-packages/sklearn/preprocessing/data.py:645: DataConversionWarning: Data with input dtype int64, float64 were all converted to float64 by StandardScaler.\n",
      "  return self.partial_fit(X, y)\n",
      "/home/ebecerra/anaconda3/envs/duch_01/lib/python3.6/site-packages/ipykernel_launcher.py:2: DataConversionWarning: Data with input dtype int64, float64 were all converted to float64 by StandardScaler.\n",
      "  \n"
     ]
    }
   ],
   "source": [
    "scaler = StandardScaler().fit(X_train)\n",
    "X_train = scaler.transform(X_train)\n",
    "# Warning about converting all numeric to float64"
   ]
  },
  {
   "cell_type": "code",
   "execution_count": 8,
   "metadata": {},
   "outputs": [
    {
     "data": {
      "text/plain": [
       "GaussianNB(priors=None, var_smoothing=1e-09)"
      ]
     },
     "execution_count": 8,
     "metadata": {},
     "output_type": "execute_result"
    }
   ],
   "source": [
    "# Fitting the model\n",
    "clf = GaussianNB()\n",
    "clf.fit(X_train, y_train)"
   ]
  },
  {
   "cell_type": "code",
   "execution_count": 9,
   "metadata": {},
   "outputs": [
    {
     "name": "stderr",
     "output_type": "stream",
     "text": [
      "/home/ebecerra/anaconda3/envs/duch_01/lib/python3.6/site-packages/ipykernel_launcher.py:2: DataConversionWarning: Data with input dtype int64, float64 were all converted to float64 by StandardScaler.\n",
      "  \n"
     ]
    },
    {
     "data": {
      "text/plain": [
       "96.3"
      ]
     },
     "execution_count": 9,
     "metadata": {},
     "output_type": "execute_result"
    }
   ],
   "source": [
    "# Evaluating the model\n",
    "predictions = clf.predict(scaler.transform(X_test))\n",
    "round(metrics.accuracy_score(y_test, predictions) * 100, 2)"
   ]
  },
  {
   "cell_type": "markdown",
   "metadata": {},
   "source": [
    "## Naive Bayes with PCA"
   ]
  },
  {
   "cell_type": "code",
   "execution_count": 10,
   "metadata": {},
   "outputs": [],
   "source": [
    "# PCA of train data\n",
    "pca = PCA().fit(X_train)\n",
    "X_train_projected = pca.transform(X_train)"
   ]
  },
  {
   "cell_type": "code",
   "execution_count": 11,
   "metadata": {},
   "outputs": [
    {
     "data": {
      "text/html": [
       "<div>\n",
       "<style scoped>\n",
       "    .dataframe tbody tr th:only-of-type {\n",
       "        vertical-align: middle;\n",
       "    }\n",
       "\n",
       "    .dataframe tbody tr th {\n",
       "        vertical-align: top;\n",
       "    }\n",
       "\n",
       "    .dataframe thead th {\n",
       "        text-align: right;\n",
       "    }\n",
       "</style>\n",
       "<table border=\"1\" class=\"dataframe\">\n",
       "  <thead>\n",
       "    <tr style=\"text-align: right;\">\n",
       "      <th></th>\n",
       "      <th>0</th>\n",
       "      <th>1</th>\n",
       "      <th>2</th>\n",
       "      <th>3</th>\n",
       "      <th>4</th>\n",
       "      <th>5</th>\n",
       "      <th>6</th>\n",
       "      <th>7</th>\n",
       "      <th>8</th>\n",
       "      <th>9</th>\n",
       "      <th>10</th>\n",
       "      <th>11</th>\n",
       "      <th>12</th>\n",
       "    </tr>\n",
       "  </thead>\n",
       "  <tbody>\n",
       "    <tr>\n",
       "      <th>0</th>\n",
       "      <td>-1.474871</td>\n",
       "      <td>-2.366391</td>\n",
       "      <td>0.317904</td>\n",
       "      <td>-0.749630</td>\n",
       "      <td>0.919159</td>\n",
       "      <td>2.387920</td>\n",
       "      <td>1.742217</td>\n",
       "      <td>0.377412</td>\n",
       "      <td>-0.462100</td>\n",
       "      <td>-0.235992</td>\n",
       "      <td>0.348793</td>\n",
       "      <td>0.066415</td>\n",
       "      <td>-0.993999</td>\n",
       "    </tr>\n",
       "    <tr>\n",
       "      <th>1</th>\n",
       "      <td>2.664898</td>\n",
       "      <td>-1.127606</td>\n",
       "      <td>-0.611624</td>\n",
       "      <td>-0.958832</td>\n",
       "      <td>1.073345</td>\n",
       "      <td>-1.224865</td>\n",
       "      <td>-0.566870</td>\n",
       "      <td>-0.327503</td>\n",
       "      <td>-0.269766</td>\n",
       "      <td>0.197111</td>\n",
       "      <td>0.064453</td>\n",
       "      <td>-0.073446</td>\n",
       "      <td>-0.142716</td>\n",
       "    </tr>\n",
       "    <tr>\n",
       "      <th>2</th>\n",
       "      <td>2.385432</td>\n",
       "      <td>1.761627</td>\n",
       "      <td>-2.181249</td>\n",
       "      <td>-0.740385</td>\n",
       "      <td>1.025976</td>\n",
       "      <td>1.043631</td>\n",
       "      <td>0.662936</td>\n",
       "      <td>-0.056656</td>\n",
       "      <td>-0.814007</td>\n",
       "      <td>0.347937</td>\n",
       "      <td>0.180876</td>\n",
       "      <td>0.068146</td>\n",
       "      <td>0.101911</td>\n",
       "    </tr>\n",
       "    <tr>\n",
       "      <th>3</th>\n",
       "      <td>-2.350633</td>\n",
       "      <td>-0.328324</td>\n",
       "      <td>-0.883374</td>\n",
       "      <td>1.449194</td>\n",
       "      <td>-0.273441</td>\n",
       "      <td>0.246145</td>\n",
       "      <td>-0.960465</td>\n",
       "      <td>-0.273805</td>\n",
       "      <td>0.491572</td>\n",
       "      <td>0.219896</td>\n",
       "      <td>0.508916</td>\n",
       "      <td>-0.119717</td>\n",
       "      <td>0.515127</td>\n",
       "    </tr>\n",
       "    <tr>\n",
       "      <th>4</th>\n",
       "      <td>-3.524011</td>\n",
       "      <td>-0.850755</td>\n",
       "      <td>-1.478440</td>\n",
       "      <td>-0.135407</td>\n",
       "      <td>-0.391657</td>\n",
       "      <td>1.448660</td>\n",
       "      <td>0.307552</td>\n",
       "      <td>0.855672</td>\n",
       "      <td>-0.203450</td>\n",
       "      <td>-0.009185</td>\n",
       "      <td>-0.278906</td>\n",
       "      <td>0.567265</td>\n",
       "      <td>-0.010158</td>\n",
       "    </tr>\n",
       "    <tr>\n",
       "      <th>5</th>\n",
       "      <td>-0.494995</td>\n",
       "      <td>2.325428</td>\n",
       "      <td>-0.658295</td>\n",
       "      <td>-0.214020</td>\n",
       "      <td>1.111955</td>\n",
       "      <td>-1.129280</td>\n",
       "      <td>0.173602</td>\n",
       "      <td>-0.155236</td>\n",
       "      <td>0.580100</td>\n",
       "      <td>-0.444121</td>\n",
       "      <td>-0.282173</td>\n",
       "      <td>0.011135</td>\n",
       "      <td>-0.055041</td>\n",
       "    </tr>\n",
       "    <tr>\n",
       "      <th>6</th>\n",
       "      <td>2.537643</td>\n",
       "      <td>0.021561</td>\n",
       "      <td>1.077114</td>\n",
       "      <td>3.402269</td>\n",
       "      <td>0.316765</td>\n",
       "      <td>-1.779125</td>\n",
       "      <td>2.494918</td>\n",
       "      <td>-0.211260</td>\n",
       "      <td>-0.143485</td>\n",
       "      <td>-0.445914</td>\n",
       "      <td>0.210737</td>\n",
       "      <td>-0.548741</td>\n",
       "      <td>0.012885</td>\n",
       "    </tr>\n",
       "    <tr>\n",
       "      <th>7</th>\n",
       "      <td>-4.216586</td>\n",
       "      <td>-0.627978</td>\n",
       "      <td>-1.822850</td>\n",
       "      <td>-0.583721</td>\n",
       "      <td>0.472052</td>\n",
       "      <td>-0.801302</td>\n",
       "      <td>-1.132813</td>\n",
       "      <td>-0.885324</td>\n",
       "      <td>-0.009665</td>\n",
       "      <td>-0.176935</td>\n",
       "      <td>0.570486</td>\n",
       "      <td>-0.315236</td>\n",
       "      <td>0.354872</td>\n",
       "    </tr>\n",
       "    <tr>\n",
       "      <th>8</th>\n",
       "      <td>-0.724511</td>\n",
       "      <td>2.900838</td>\n",
       "      <td>-4.354408</td>\n",
       "      <td>0.861024</td>\n",
       "      <td>-1.606679</td>\n",
       "      <td>-0.297682</td>\n",
       "      <td>0.015951</td>\n",
       "      <td>0.650164</td>\n",
       "      <td>-0.199353</td>\n",
       "      <td>0.682288</td>\n",
       "      <td>0.019197</td>\n",
       "      <td>-0.867979</td>\n",
       "      <td>-0.366179</td>\n",
       "    </tr>\n",
       "    <tr>\n",
       "      <th>9</th>\n",
       "      <td>1.988056</td>\n",
       "      <td>-1.479637</td>\n",
       "      <td>0.385749</td>\n",
       "      <td>0.127849</td>\n",
       "      <td>-1.207879</td>\n",
       "      <td>-0.975085</td>\n",
       "      <td>-1.028339</td>\n",
       "      <td>0.313924</td>\n",
       "      <td>-0.163438</td>\n",
       "      <td>-0.510784</td>\n",
       "      <td>-0.608492</td>\n",
       "      <td>0.161903</td>\n",
       "      <td>-0.093347</td>\n",
       "    </tr>\n",
       "  </tbody>\n",
       "</table>\n",
       "</div>"
      ],
      "text/plain": [
       "         0         1         2         3         4         5         6   \\\n",
       "0 -1.474871 -2.366391  0.317904 -0.749630  0.919159  2.387920  1.742217   \n",
       "1  2.664898 -1.127606 -0.611624 -0.958832  1.073345 -1.224865 -0.566870   \n",
       "2  2.385432  1.761627 -2.181249 -0.740385  1.025976  1.043631  0.662936   \n",
       "3 -2.350633 -0.328324 -0.883374  1.449194 -0.273441  0.246145 -0.960465   \n",
       "4 -3.524011 -0.850755 -1.478440 -0.135407 -0.391657  1.448660  0.307552   \n",
       "5 -0.494995  2.325428 -0.658295 -0.214020  1.111955 -1.129280  0.173602   \n",
       "6  2.537643  0.021561  1.077114  3.402269  0.316765 -1.779125  2.494918   \n",
       "7 -4.216586 -0.627978 -1.822850 -0.583721  0.472052 -0.801302 -1.132813   \n",
       "8 -0.724511  2.900838 -4.354408  0.861024 -1.606679 -0.297682  0.015951   \n",
       "9  1.988056 -1.479637  0.385749  0.127849 -1.207879 -0.975085 -1.028339   \n",
       "\n",
       "         7         8         9         10        11        12  \n",
       "0  0.377412 -0.462100 -0.235992  0.348793  0.066415 -0.993999  \n",
       "1 -0.327503 -0.269766  0.197111  0.064453 -0.073446 -0.142716  \n",
       "2 -0.056656 -0.814007  0.347937  0.180876  0.068146  0.101911  \n",
       "3 -0.273805  0.491572  0.219896  0.508916 -0.119717  0.515127  \n",
       "4  0.855672 -0.203450 -0.009185 -0.278906  0.567265 -0.010158  \n",
       "5 -0.155236  0.580100 -0.444121 -0.282173  0.011135 -0.055041  \n",
       "6 -0.211260 -0.143485 -0.445914  0.210737 -0.548741  0.012885  \n",
       "7 -0.885324 -0.009665 -0.176935  0.570486 -0.315236  0.354872  \n",
       "8  0.650164 -0.199353  0.682288  0.019197 -0.867979 -0.366179  \n",
       "9  0.313924 -0.163438 -0.510784 -0.608492  0.161903 -0.093347  "
      ]
     },
     "execution_count": 11,
     "metadata": {},
     "output_type": "execute_result"
    }
   ],
   "source": [
    "# Our new projected data\n",
    "pd.DataFrame(X_train_projected).iloc[0:10,:]"
   ]
  },
  {
   "cell_type": "code",
   "execution_count": 12,
   "metadata": {},
   "outputs": [
    {
     "data": {
      "text/html": [
       "<div>\n",
       "<style scoped>\n",
       "    .dataframe tbody tr th:only-of-type {\n",
       "        vertical-align: middle;\n",
       "    }\n",
       "\n",
       "    .dataframe tbody tr th {\n",
       "        vertical-align: top;\n",
       "    }\n",
       "\n",
       "    .dataframe thead th {\n",
       "        text-align: right;\n",
       "    }\n",
       "</style>\n",
       "<table border=\"1\" class=\"dataframe\">\n",
       "  <thead>\n",
       "    <tr style=\"text-align: right;\">\n",
       "      <th></th>\n",
       "      <th>0</th>\n",
       "      <th>1</th>\n",
       "      <th>2</th>\n",
       "      <th>3</th>\n",
       "      <th>4</th>\n",
       "      <th>5</th>\n",
       "      <th>6</th>\n",
       "      <th>7</th>\n",
       "      <th>8</th>\n",
       "      <th>9</th>\n",
       "      <th>10</th>\n",
       "      <th>11</th>\n",
       "      <th>12</th>\n",
       "    </tr>\n",
       "  </thead>\n",
       "  <tbody>\n",
       "    <tr>\n",
       "      <th>Alcohol</th>\n",
       "      <td>0.141146</td>\n",
       "      <td>-0.281881</td>\n",
       "      <td>-0.043255</td>\n",
       "      <td>-0.246330</td>\n",
       "      <td>0.135777</td>\n",
       "      <td>0.391388</td>\n",
       "      <td>0.409767</td>\n",
       "      <td>-0.287539</td>\n",
       "      <td>0.323900</td>\n",
       "      <td>-0.071687</td>\n",
       "      <td>0.299436</td>\n",
       "      <td>0.365805</td>\n",
       "      <td>0.286947</td>\n",
       "    </tr>\n",
       "    <tr>\n",
       "      <th>Malic</th>\n",
       "      <td>-0.497627</td>\n",
       "      <td>-0.197943</td>\n",
       "      <td>-0.300288</td>\n",
       "      <td>0.046258</td>\n",
       "      <td>-0.283796</td>\n",
       "      <td>-0.050379</td>\n",
       "      <td>-0.005782</td>\n",
       "      <td>-0.018574</td>\n",
       "      <td>-0.041986</td>\n",
       "      <td>-0.540958</td>\n",
       "      <td>0.263178</td>\n",
       "      <td>0.192143</td>\n",
       "      <td>-0.369914</td>\n",
       "    </tr>\n",
       "    <tr>\n",
       "      <th>Ash</th>\n",
       "      <td>-0.180967</td>\n",
       "      <td>0.015277</td>\n",
       "      <td>0.639457</td>\n",
       "      <td>0.581876</td>\n",
       "      <td>0.228844</td>\n",
       "      <td>0.137085</td>\n",
       "      <td>0.143232</td>\n",
       "      <td>0.231092</td>\n",
       "      <td>0.110204</td>\n",
       "      <td>-0.137253</td>\n",
       "      <td>0.142400</td>\n",
       "      <td>0.141581</td>\n",
       "      <td>-0.056080</td>\n",
       "    </tr>\n",
       "    <tr>\n",
       "      <th>Alcalinity</th>\n",
       "      <td>-0.251164</td>\n",
       "      <td>-0.185468</td>\n",
       "      <td>-0.086665</td>\n",
       "      <td>0.052662</td>\n",
       "      <td>0.728908</td>\n",
       "      <td>-0.188024</td>\n",
       "      <td>-0.152012</td>\n",
       "      <td>-0.493309</td>\n",
       "      <td>0.049440</td>\n",
       "      <td>-0.018759</td>\n",
       "      <td>-0.098957</td>\n",
       "      <td>-0.171909</td>\n",
       "      <td>-0.130277</td>\n",
       "    </tr>\n",
       "    <tr>\n",
       "      <th>Magnesium</th>\n",
       "      <td>-0.101919</td>\n",
       "      <td>0.465730</td>\n",
       "      <td>-0.190434</td>\n",
       "      <td>0.168941</td>\n",
       "      <td>-0.111604</td>\n",
       "      <td>0.221738</td>\n",
       "      <td>0.185358</td>\n",
       "      <td>-0.199754</td>\n",
       "      <td>0.496982</td>\n",
       "      <td>0.067757</td>\n",
       "      <td>-0.465723</td>\n",
       "      <td>0.118199</td>\n",
       "      <td>-0.299279</td>\n",
       "    </tr>\n",
       "    <tr>\n",
       "      <th>Phenols</th>\n",
       "      <td>-0.102483</td>\n",
       "      <td>-0.628393</td>\n",
       "      <td>0.105950</td>\n",
       "      <td>0.254740</td>\n",
       "      <td>-0.401961</td>\n",
       "      <td>0.033995</td>\n",
       "      <td>0.119143</td>\n",
       "      <td>-0.241696</td>\n",
       "      <td>0.012166</td>\n",
       "      <td>0.463833</td>\n",
       "      <td>-0.161778</td>\n",
       "      <td>-0.149917</td>\n",
       "      <td>-0.138657</td>\n",
       "    </tr>\n",
       "    <tr>\n",
       "      <th>Flavanoids</th>\n",
       "      <td>-0.236132</td>\n",
       "      <td>-0.180124</td>\n",
       "      <td>-0.260646</td>\n",
       "      <td>-0.058396</td>\n",
       "      <td>0.141132</td>\n",
       "      <td>-0.034031</td>\n",
       "      <td>-0.099880</td>\n",
       "      <td>0.563472</td>\n",
       "      <td>0.585586</td>\n",
       "      <td>0.224548</td>\n",
       "      <td>0.167088</td>\n",
       "      <td>-0.253342</td>\n",
       "      <td>0.080395</td>\n",
       "    </tr>\n",
       "    <tr>\n",
       "      <th>Nonflavanoid</th>\n",
       "      <td>-0.366229</td>\n",
       "      <td>-0.145442</td>\n",
       "      <td>0.085506</td>\n",
       "      <td>-0.402558</td>\n",
       "      <td>0.214493</td>\n",
       "      <td>0.326088</td>\n",
       "      <td>0.203807</td>\n",
       "      <td>0.341440</td>\n",
       "      <td>-0.341547</td>\n",
       "      <td>0.079346</td>\n",
       "      <td>-0.456683</td>\n",
       "      <td>0.151632</td>\n",
       "      <td>-0.101971</td>\n",
       "    </tr>\n",
       "    <tr>\n",
       "      <th>Proanthocyanins</th>\n",
       "      <td>-0.535785</td>\n",
       "      <td>0.174555</td>\n",
       "      <td>0.293968</td>\n",
       "      <td>-0.194313</td>\n",
       "      <td>-0.256542</td>\n",
       "      <td>-0.122889</td>\n",
       "      <td>0.021726</td>\n",
       "      <td>-0.233593</td>\n",
       "      <td>0.126819</td>\n",
       "      <td>-0.127678</td>\n",
       "      <td>-0.096471</td>\n",
       "      <td>-0.240214</td>\n",
       "      <td>0.568281</td>\n",
       "    </tr>\n",
       "    <tr>\n",
       "      <th>Color</th>\n",
       "      <td>-0.200267</td>\n",
       "      <td>0.312185</td>\n",
       "      <td>-0.120155</td>\n",
       "      <td>0.044483</td>\n",
       "      <td>0.028269</td>\n",
       "      <td>0.491720</td>\n",
       "      <td>0.132510</td>\n",
       "      <td>-0.122755</td>\n",
       "      <td>-0.276884</td>\n",
       "      <td>0.264296</td>\n",
       "      <td>0.468201</td>\n",
       "      <td>-0.434714</td>\n",
       "      <td>-0.126875</td>\n",
       "    </tr>\n",
       "    <tr>\n",
       "      <th>Hue</th>\n",
       "      <td>0.213649</td>\n",
       "      <td>-0.053711</td>\n",
       "      <td>0.448348</td>\n",
       "      <td>-0.467903</td>\n",
       "      <td>-0.062851</td>\n",
       "      <td>-0.020320</td>\n",
       "      <td>0.085071</td>\n",
       "      <td>-0.037779</td>\n",
       "      <td>0.254761</td>\n",
       "      <td>-0.227689</td>\n",
       "      <td>0.055958</td>\n",
       "      <td>-0.396240</td>\n",
       "      <td>-0.491538</td>\n",
       "    </tr>\n",
       "    <tr>\n",
       "      <th>Dilution</th>\n",
       "      <td>-0.229868</td>\n",
       "      <td>0.212093</td>\n",
       "      <td>0.210886</td>\n",
       "      <td>-0.270741</td>\n",
       "      <td>-0.017201</td>\n",
       "      <td>-0.341898</td>\n",
       "      <td>-0.079253</td>\n",
       "      <td>-0.083641</td>\n",
       "      <td>0.041633</td>\n",
       "      <td>0.518118</td>\n",
       "      <td>0.315051</td>\n",
       "      <td>0.479698</td>\n",
       "      <td>-0.233216</td>\n",
       "    </tr>\n",
       "    <tr>\n",
       "      <th>Proline</th>\n",
       "      <td>0.013533</td>\n",
       "      <td>0.074516</td>\n",
       "      <td>-0.149862</td>\n",
       "      <td>0.070441</td>\n",
       "      <td>0.080842</td>\n",
       "      <td>-0.508056</td>\n",
       "      <td>0.810444</td>\n",
       "      <td>0.098796</td>\n",
       "      <td>-0.112463</td>\n",
       "      <td>0.011937</td>\n",
       "      <td>0.023458</td>\n",
       "      <td>-0.149179</td>\n",
       "      <td>-0.003562</td>\n",
       "    </tr>\n",
       "  </tbody>\n",
       "</table>\n",
       "</div>"
      ],
      "text/plain": [
       "                       0         1         2         3         4         5   \\\n",
       "Alcohol          0.141146 -0.281881 -0.043255 -0.246330  0.135777  0.391388   \n",
       "Malic           -0.497627 -0.197943 -0.300288  0.046258 -0.283796 -0.050379   \n",
       "Ash             -0.180967  0.015277  0.639457  0.581876  0.228844  0.137085   \n",
       "Alcalinity      -0.251164 -0.185468 -0.086665  0.052662  0.728908 -0.188024   \n",
       "Magnesium       -0.101919  0.465730 -0.190434  0.168941 -0.111604  0.221738   \n",
       "Phenols         -0.102483 -0.628393  0.105950  0.254740 -0.401961  0.033995   \n",
       "Flavanoids      -0.236132 -0.180124 -0.260646 -0.058396  0.141132 -0.034031   \n",
       "Nonflavanoid    -0.366229 -0.145442  0.085506 -0.402558  0.214493  0.326088   \n",
       "Proanthocyanins -0.535785  0.174555  0.293968 -0.194313 -0.256542 -0.122889   \n",
       "Color           -0.200267  0.312185 -0.120155  0.044483  0.028269  0.491720   \n",
       "Hue              0.213649 -0.053711  0.448348 -0.467903 -0.062851 -0.020320   \n",
       "Dilution        -0.229868  0.212093  0.210886 -0.270741 -0.017201 -0.341898   \n",
       "Proline          0.013533  0.074516 -0.149862  0.070441  0.080842 -0.508056   \n",
       "\n",
       "                       6         7         8         9         10        11  \\\n",
       "Alcohol          0.409767 -0.287539  0.323900 -0.071687  0.299436  0.365805   \n",
       "Malic           -0.005782 -0.018574 -0.041986 -0.540958  0.263178  0.192143   \n",
       "Ash              0.143232  0.231092  0.110204 -0.137253  0.142400  0.141581   \n",
       "Alcalinity      -0.152012 -0.493309  0.049440 -0.018759 -0.098957 -0.171909   \n",
       "Magnesium        0.185358 -0.199754  0.496982  0.067757 -0.465723  0.118199   \n",
       "Phenols          0.119143 -0.241696  0.012166  0.463833 -0.161778 -0.149917   \n",
       "Flavanoids      -0.099880  0.563472  0.585586  0.224548  0.167088 -0.253342   \n",
       "Nonflavanoid     0.203807  0.341440 -0.341547  0.079346 -0.456683  0.151632   \n",
       "Proanthocyanins  0.021726 -0.233593  0.126819 -0.127678 -0.096471 -0.240214   \n",
       "Color            0.132510 -0.122755 -0.276884  0.264296  0.468201 -0.434714   \n",
       "Hue              0.085071 -0.037779  0.254761 -0.227689  0.055958 -0.396240   \n",
       "Dilution        -0.079253 -0.083641  0.041633  0.518118  0.315051  0.479698   \n",
       "Proline          0.810444  0.098796 -0.112463  0.011937  0.023458 -0.149179   \n",
       "\n",
       "                       12  \n",
       "Alcohol          0.286947  \n",
       "Malic           -0.369914  \n",
       "Ash             -0.056080  \n",
       "Alcalinity      -0.130277  \n",
       "Magnesium       -0.299279  \n",
       "Phenols         -0.138657  \n",
       "Flavanoids       0.080395  \n",
       "Nonflavanoid    -0.101971  \n",
       "Proanthocyanins  0.568281  \n",
       "Color           -0.126875  \n",
       "Hue             -0.491538  \n",
       "Dilution        -0.233216  \n",
       "Proline         -0.003562  "
      ]
     },
     "execution_count": 12,
     "metadata": {},
     "output_type": "execute_result"
    }
   ],
   "source": [
    "# Printing the PCs\n",
    "df_components = pd.DataFrame(pca.components_)\n",
    "df_components.index = header[1:]\n",
    "df_components"
   ]
  },
  {
   "cell_type": "code",
   "execution_count": 13,
   "metadata": {},
   "outputs": [
    {
     "data": {
      "text/plain": [
       "array([37.7 , 18.67, 11.52,  6.98,  6.44,  4.65,  3.98,  2.6 ,  2.1 ,\n",
       "        1.84,  1.6 ,  1.2 ,  0.73])"
      ]
     },
     "execution_count": 13,
     "metadata": {},
     "output_type": "execute_result"
    }
   ],
   "source": [
    "# Explained Variance per component\n",
    "np.round(pca.explained_variance_ratio_ * 100, 2)"
   ]
  },
  {
   "cell_type": "code",
   "execution_count": 14,
   "metadata": {},
   "outputs": [
    {
     "data": {
      "text/plain": [
       "<matplotlib.collections.PathCollection at 0x7f527b7c4b38>"
      ]
     },
     "execution_count": 14,
     "metadata": {},
     "output_type": "execute_result"
    },
    {
     "data": {
      "image/png": "[encoded data removed]",
      "text/plain": [
       "<Figure size 432x288 with 1 Axes>"
      ]
     },
     "metadata": {
      "needs_background": "light"
     },
     "output_type": "display_data"
    }
   ],
   "source": [
    "plt.scatter(x = range(1,14), y = np.cumsum(pca.explained_variance_ratio_))"
   ]
  },
  {
   "cell_type": "code",
   "execution_count": 15,
   "metadata": {},
   "outputs": [
    {
     "data": {
      "text/plain": [
       "array([0.37695942, 0.56366569, 0.67888977, 0.74868462, 0.81303694,\n",
       "       0.85955858, 0.89936325, 0.92533331, 0.9463765 , 0.96474922,\n",
       "       0.98072254, 0.99273064, 1.        ])"
      ]
     },
     "execution_count": 15,
     "metadata": {},
     "output_type": "execute_result"
    }
   ],
   "source": [
    "# Cumulative Variance\n",
    "np.cumsum(pca.explained_variance_ratio_)"
   ]
  },
  {
   "cell_type": "code",
   "execution_count": 16,
   "metadata": {},
   "outputs": [],
   "source": [
    "X_train_reduced = X_train_projected[:,0:5]"
   ]
  },
  {
   "cell_type": "code",
   "execution_count": 17,
   "metadata": {},
   "outputs": [
    {
     "data": {
      "text/plain": [
       "GaussianNB(priors=None, var_smoothing=1e-09)"
      ]
     },
     "execution_count": 17,
     "metadata": {},
     "output_type": "execute_result"
    }
   ],
   "source": [
    "# Fitting the model\n",
    "clf2 = GaussianNB()\n",
    "clf2.fit(X_train_reduced, y_train)"
   ]
  },
  {
   "cell_type": "code",
   "execution_count": 18,
   "metadata": {},
   "outputs": [
    {
     "name": "stderr",
     "output_type": "stream",
     "text": [
      "/home/ebecerra/anaconda3/envs/duch_01/lib/python3.6/site-packages/ipykernel_launcher.py:2: DataConversionWarning: Data with input dtype int64, float64 were all converted to float64 by StandardScaler.\n",
      "  \n"
     ]
    },
    {
     "data": {
      "text/plain": [
       "98.15"
      ]
     },
     "execution_count": 18,
     "metadata": {},
     "output_type": "execute_result"
    }
   ],
   "source": [
    "# Evaluating the model\n",
    "X_test_reduced = pca.transform(scaler.transform(X_test))[:,0:5]\n",
    "predictions = clf2.predict(X_test_reduced)\n",
    "round(metrics.accuracy_score(y_test, predictions) * 100, 2)"
   ]
  },
  {
   "cell_type": "markdown",
   "metadata": {},
   "source": [
    "## PCA for Visualization"
   ]
  },
  {
   "cell_type": "code",
   "execution_count": 19,
   "metadata": {},
   "outputs": [],
   "source": [
    "df = pd.DataFrame(X_train_projected)\n",
    "df.columns = ['PC1', 'PC2', 'PC3', 'PC4', 'PC5',\n",
    "             'PC6', 'PC7', 'PC8', 'PC9', 'PC10',\n",
    "             'PC11', 'PC12','PC13']\n",
    "df['Cultivar'] = np.array(y_train)"
   ]
  },
  {
   "cell_type": "code",
   "execution_count": 20,
   "metadata": {},
   "outputs": [
    {
     "data": {
      "text/plain": [
       "<seaborn.axisgrid.FacetGrid at 0x7f527b71bcc0>"
      ]
     },
     "execution_count": 20,
     "metadata": {},
     "output_type": "execute_result"
    },
    {
     "data": {
      "image/png": "[encoded data removed]",
      "text/plain": [
       "<Figure size 407x360 with 1 Axes>"
      ]
     },
     "metadata": {
      "needs_background": "light"
     },
     "output_type": "display_data"
    }
   ],
   "source": [
    "# PC1 vs PC2\n",
    "sns.lmplot(data = df,\n",
    "           x = 'PC1', y = 'PC2', hue = 'Cultivar', fit_reg = False)\n"
   ]
  },
  {
   "cell_type": "code",
   "execution_count": 21,
   "metadata": {},
   "outputs": [
    {
     "data": {
      "text/plain": [
       "<seaborn.axisgrid.FacetGrid at 0x7f527b6d0b00>"
      ]
     },
     "execution_count": 21,
     "metadata": {},
     "output_type": "execute_result"
    },
    {
     "data": {
      "image/png": "[encoded data removed]",
      "text/plain": [
       "<Figure size 407x360 with 1 Axes>"
      ]
     },
     "metadata": {
      "needs_background": "light"
     },
     "output_type": "display_data"
    }
   ],
   "source": [
    "# PC1 vs PC3\n",
    "sns.lmplot(data = df,\n",
    "           x = 'PC1', y = 'PC3', hue = 'Cultivar', fit_reg = False)"
   ]
  },
  {
   "cell_type": "code",
   "execution_count": 22,
   "metadata": {},
   "outputs": [
    {
     "data": {
      "text/plain": [
       "<seaborn.axisgrid.FacetGrid at 0x7f527b63dcf8>"
      ]
     },
     "execution_count": 22,
     "metadata": {},
     "output_type": "execute_result"
    },
    {
     "data": {
      "image/png": "[encoded data removed]",
      "text/plain": [
       "<Figure size 407x360 with 1 Axes>"
      ]
     },
     "metadata": {
      "needs_background": "light"
     },
     "output_type": "display_data"
    }
   ],
   "source": [
    "# PC2 vs PC3\n",
    "sns.lmplot(data = df,\n",
    "           x = 'PC2', y = 'PC3', hue = 'Cultivar', fit_reg = False)"
   ]
  }
 ],
 "metadata": {
  "kernelspec": {
   "display_name": "Python 3",
   "language": "python",
   "name": "python3"
  },
  "language_info": {
   "codemirror_mode": {
    "name": "ipython",
    "version": 3
   },
   "file_extension": ".py",
   "mimetype": "text/x-python",
   "name": "python",
   "nbconvert_exporter": "python",
   "pygments_lexer": "ipython3",
   "version": "3.6.8"
  }
 },
 "nbformat": 4,
 "nbformat_minor": 2
}
